{
 "cells": [
  {
   "cell_type": "markdown",
   "id": "565de6b2-c994-4a85-b8ff-796176567bfc",
   "metadata": {},
   "source": [
    "# C. Increate the number of epochs (5 marks)\n",
    "\n",
    "Repeat Part B but use 100 epochs this time for training.\n",
    "\n"
   ]
  },
  {
   "cell_type": "markdown",
   "id": "0d039f31-415d-4458-a470-673c2f6cc680",
   "metadata": {},
   "source": [
    "#### Download and Clean Dataset"
   ]
  },
  {
   "cell_type": "code",
   "execution_count": 1,
   "id": "f5d87430-a14c-4d5a-b7df-3409fba60ad3",
   "metadata": {},
   "outputs": [],
   "source": [
    "import pandas as pd\n",
    "import numpy as np\n",
    "import seaborn as sns\n"
   ]
  },
  {
   "cell_type": "code",
   "execution_count": 2,
   "id": "21db0538-ae4b-4d8c-a50c-d4a0ec4df7a2",
   "metadata": {},
   "outputs": [
    {
     "data": {
      "text/html": [
       "<div>\n",
       "<style scoped>\n",
       "    .dataframe tbody tr th:only-of-type {\n",
       "        vertical-align: middle;\n",
       "    }\n",
       "\n",
       "    .dataframe tbody tr th {\n",
       "        vertical-align: top;\n",
       "    }\n",
       "\n",
       "    .dataframe thead th {\n",
       "        text-align: right;\n",
       "    }\n",
       "</style>\n",
       "<table border=\"1\" class=\"dataframe\">\n",
       "  <thead>\n",
       "    <tr style=\"text-align: right;\">\n",
       "      <th></th>\n",
       "      <th>Cement</th>\n",
       "      <th>Blast Furnace Slag</th>\n",
       "      <th>Fly Ash</th>\n",
       "      <th>Water</th>\n",
       "      <th>Superplasticizer</th>\n",
       "      <th>Coarse Aggregate</th>\n",
       "      <th>Fine Aggregate</th>\n",
       "      <th>Age</th>\n",
       "      <th>Strength</th>\n",
       "    </tr>\n",
       "  </thead>\n",
       "  <tbody>\n",
       "    <tr>\n",
       "      <th>0</th>\n",
       "      <td>540.0</td>\n",
       "      <td>0.0</td>\n",
       "      <td>0.0</td>\n",
       "      <td>162.0</td>\n",
       "      <td>2.5</td>\n",
       "      <td>1040.0</td>\n",
       "      <td>676.0</td>\n",
       "      <td>28</td>\n",
       "      <td>79.99</td>\n",
       "    </tr>\n",
       "    <tr>\n",
       "      <th>1</th>\n",
       "      <td>540.0</td>\n",
       "      <td>0.0</td>\n",
       "      <td>0.0</td>\n",
       "      <td>162.0</td>\n",
       "      <td>2.5</td>\n",
       "      <td>1055.0</td>\n",
       "      <td>676.0</td>\n",
       "      <td>28</td>\n",
       "      <td>61.89</td>\n",
       "    </tr>\n",
       "    <tr>\n",
       "      <th>2</th>\n",
       "      <td>332.5</td>\n",
       "      <td>142.5</td>\n",
       "      <td>0.0</td>\n",
       "      <td>228.0</td>\n",
       "      <td>0.0</td>\n",
       "      <td>932.0</td>\n",
       "      <td>594.0</td>\n",
       "      <td>270</td>\n",
       "      <td>40.27</td>\n",
       "    </tr>\n",
       "    <tr>\n",
       "      <th>3</th>\n",
       "      <td>332.5</td>\n",
       "      <td>142.5</td>\n",
       "      <td>0.0</td>\n",
       "      <td>228.0</td>\n",
       "      <td>0.0</td>\n",
       "      <td>932.0</td>\n",
       "      <td>594.0</td>\n",
       "      <td>365</td>\n",
       "      <td>41.05</td>\n",
       "    </tr>\n",
       "    <tr>\n",
       "      <th>4</th>\n",
       "      <td>198.6</td>\n",
       "      <td>132.4</td>\n",
       "      <td>0.0</td>\n",
       "      <td>192.0</td>\n",
       "      <td>0.0</td>\n",
       "      <td>978.4</td>\n",
       "      <td>825.5</td>\n",
       "      <td>360</td>\n",
       "      <td>44.30</td>\n",
       "    </tr>\n",
       "  </tbody>\n",
       "</table>\n",
       "</div>"
      ],
      "text/plain": [
       "   Cement  Blast Furnace Slag  Fly Ash  Water  Superplasticizer  \\\n",
       "0   540.0                 0.0      0.0  162.0               2.5   \n",
       "1   540.0                 0.0      0.0  162.0               2.5   \n",
       "2   332.5               142.5      0.0  228.0               0.0   \n",
       "3   332.5               142.5      0.0  228.0               0.0   \n",
       "4   198.6               132.4      0.0  192.0               0.0   \n",
       "\n",
       "   Coarse Aggregate  Fine Aggregate  Age  Strength  \n",
       "0            1040.0           676.0   28     79.99  \n",
       "1            1055.0           676.0   28     61.89  \n",
       "2             932.0           594.0  270     40.27  \n",
       "3             932.0           594.0  365     41.05  \n",
       "4             978.4           825.5  360     44.30  "
      ]
     },
     "execution_count": 2,
     "metadata": {},
     "output_type": "execute_result"
    }
   ],
   "source": [
    "concrete_data = pd.read_csv('https://s3-api.us-geo.objectstorage.softlayer.net/cf-courses-data/CognitiveClass/DL0101EN/labs/data/concrete_data.csv')\n",
    "concrete_data.head()"
   ]
  },
  {
   "cell_type": "code",
   "execution_count": 3,
   "id": "d0230727-0931-4fb4-968f-18b8cf42560a",
   "metadata": {},
   "outputs": [
    {
     "data": {
      "text/plain": [
       "(1030, 9)"
      ]
     },
     "execution_count": 3,
     "metadata": {},
     "output_type": "execute_result"
    }
   ],
   "source": [
    "concrete_data.shape"
   ]
  },
  {
   "cell_type": "markdown",
   "id": "4f2db043-7e04-4c37-b438-52cb33369ff7",
   "metadata": {
    "button": false,
    "new_sheet": false,
    "run_control": {
     "read_only": false
    }
   },
   "source": [
    "##### There are 1030 samples to train a model on. Because of the few samples, we have to be careful not to overfit the training data.\n"
   ]
  },
  {
   "cell_type": "markdown",
   "id": "561a56d2-e85d-44b8-abb8-7fb178467883",
   "metadata": {},
   "source": [
    "#### Let's check the dataset for any missing values."
   ]
  },
  {
   "cell_type": "code",
   "execution_count": 4,
   "id": "ac1f1f7f-5bdf-4122-a224-1019c3866ec7",
   "metadata": {},
   "outputs": [
    {
     "data": {
      "text/plain": [
       "Cement                0\n",
       "Blast Furnace Slag    0\n",
       "Fly Ash               0\n",
       "Water                 0\n",
       "Superplasticizer      0\n",
       "Coarse Aggregate      0\n",
       "Fine Aggregate        0\n",
       "Age                   0\n",
       "Strength              0\n",
       "dtype: int64"
      ]
     },
     "execution_count": 4,
     "metadata": {},
     "output_type": "execute_result"
    }
   ],
   "source": [
    "concrete_data.isnull().sum()"
   ]
  },
  {
   "cell_type": "markdown",
   "id": "b2ff8386-c67c-4278-a0d9-d0ba22ba3c97",
   "metadata": {},
   "source": [
    "There are no any missing value in our columns."
   ]
  },
  {
   "cell_type": "markdown",
   "id": "7f90db9d-f686-4c83-bd81-305eba7aa97f",
   "metadata": {},
   "source": [
    "#### Let's describe our dataset"
   ]
  },
  {
   "cell_type": "code",
   "execution_count": 5,
   "id": "8e478957-0e88-4c13-94c3-baf8b9867159",
   "metadata": {},
   "outputs": [
    {
     "data": {
      "text/html": [
       "<div>\n",
       "<style scoped>\n",
       "    .dataframe tbody tr th:only-of-type {\n",
       "        vertical-align: middle;\n",
       "    }\n",
       "\n",
       "    .dataframe tbody tr th {\n",
       "        vertical-align: top;\n",
       "    }\n",
       "\n",
       "    .dataframe thead th {\n",
       "        text-align: right;\n",
       "    }\n",
       "</style>\n",
       "<table border=\"1\" class=\"dataframe\">\n",
       "  <thead>\n",
       "    <tr style=\"text-align: right;\">\n",
       "      <th></th>\n",
       "      <th>Cement</th>\n",
       "      <th>Blast Furnace Slag</th>\n",
       "      <th>Fly Ash</th>\n",
       "      <th>Water</th>\n",
       "      <th>Superplasticizer</th>\n",
       "      <th>Coarse Aggregate</th>\n",
       "      <th>Fine Aggregate</th>\n",
       "      <th>Age</th>\n",
       "      <th>Strength</th>\n",
       "    </tr>\n",
       "  </thead>\n",
       "  <tbody>\n",
       "    <tr>\n",
       "      <th>count</th>\n",
       "      <td>1030.000000</td>\n",
       "      <td>1030.000000</td>\n",
       "      <td>1030.000000</td>\n",
       "      <td>1030.000000</td>\n",
       "      <td>1030.000000</td>\n",
       "      <td>1030.000000</td>\n",
       "      <td>1030.000000</td>\n",
       "      <td>1030.000000</td>\n",
       "      <td>1030.000000</td>\n",
       "    </tr>\n",
       "    <tr>\n",
       "      <th>mean</th>\n",
       "      <td>281.167864</td>\n",
       "      <td>73.895825</td>\n",
       "      <td>54.188350</td>\n",
       "      <td>181.567282</td>\n",
       "      <td>6.204660</td>\n",
       "      <td>972.918932</td>\n",
       "      <td>773.580485</td>\n",
       "      <td>45.662136</td>\n",
       "      <td>35.817961</td>\n",
       "    </tr>\n",
       "    <tr>\n",
       "      <th>std</th>\n",
       "      <td>104.506364</td>\n",
       "      <td>86.279342</td>\n",
       "      <td>63.997004</td>\n",
       "      <td>21.354219</td>\n",
       "      <td>5.973841</td>\n",
       "      <td>77.753954</td>\n",
       "      <td>80.175980</td>\n",
       "      <td>63.169912</td>\n",
       "      <td>16.705742</td>\n",
       "    </tr>\n",
       "    <tr>\n",
       "      <th>min</th>\n",
       "      <td>102.000000</td>\n",
       "      <td>0.000000</td>\n",
       "      <td>0.000000</td>\n",
       "      <td>121.800000</td>\n",
       "      <td>0.000000</td>\n",
       "      <td>801.000000</td>\n",
       "      <td>594.000000</td>\n",
       "      <td>1.000000</td>\n",
       "      <td>2.330000</td>\n",
       "    </tr>\n",
       "    <tr>\n",
       "      <th>25%</th>\n",
       "      <td>192.375000</td>\n",
       "      <td>0.000000</td>\n",
       "      <td>0.000000</td>\n",
       "      <td>164.900000</td>\n",
       "      <td>0.000000</td>\n",
       "      <td>932.000000</td>\n",
       "      <td>730.950000</td>\n",
       "      <td>7.000000</td>\n",
       "      <td>23.710000</td>\n",
       "    </tr>\n",
       "    <tr>\n",
       "      <th>50%</th>\n",
       "      <td>272.900000</td>\n",
       "      <td>22.000000</td>\n",
       "      <td>0.000000</td>\n",
       "      <td>185.000000</td>\n",
       "      <td>6.400000</td>\n",
       "      <td>968.000000</td>\n",
       "      <td>779.500000</td>\n",
       "      <td>28.000000</td>\n",
       "      <td>34.445000</td>\n",
       "    </tr>\n",
       "    <tr>\n",
       "      <th>75%</th>\n",
       "      <td>350.000000</td>\n",
       "      <td>142.950000</td>\n",
       "      <td>118.300000</td>\n",
       "      <td>192.000000</td>\n",
       "      <td>10.200000</td>\n",
       "      <td>1029.400000</td>\n",
       "      <td>824.000000</td>\n",
       "      <td>56.000000</td>\n",
       "      <td>46.135000</td>\n",
       "    </tr>\n",
       "    <tr>\n",
       "      <th>max</th>\n",
       "      <td>540.000000</td>\n",
       "      <td>359.400000</td>\n",
       "      <td>200.100000</td>\n",
       "      <td>247.000000</td>\n",
       "      <td>32.200000</td>\n",
       "      <td>1145.000000</td>\n",
       "      <td>992.600000</td>\n",
       "      <td>365.000000</td>\n",
       "      <td>82.600000</td>\n",
       "    </tr>\n",
       "  </tbody>\n",
       "</table>\n",
       "</div>"
      ],
      "text/plain": [
       "            Cement  Blast Furnace Slag      Fly Ash        Water  \\\n",
       "count  1030.000000         1030.000000  1030.000000  1030.000000   \n",
       "mean    281.167864           73.895825    54.188350   181.567282   \n",
       "std     104.506364           86.279342    63.997004    21.354219   \n",
       "min     102.000000            0.000000     0.000000   121.800000   \n",
       "25%     192.375000            0.000000     0.000000   164.900000   \n",
       "50%     272.900000           22.000000     0.000000   185.000000   \n",
       "75%     350.000000          142.950000   118.300000   192.000000   \n",
       "max     540.000000          359.400000   200.100000   247.000000   \n",
       "\n",
       "       Superplasticizer  Coarse Aggregate  Fine Aggregate          Age  \\\n",
       "count       1030.000000       1030.000000     1030.000000  1030.000000   \n",
       "mean           6.204660        972.918932      773.580485    45.662136   \n",
       "std            5.973841         77.753954       80.175980    63.169912   \n",
       "min            0.000000        801.000000      594.000000     1.000000   \n",
       "25%            0.000000        932.000000      730.950000     7.000000   \n",
       "50%            6.400000        968.000000      779.500000    28.000000   \n",
       "75%           10.200000       1029.400000      824.000000    56.000000   \n",
       "max           32.200000       1145.000000      992.600000   365.000000   \n",
       "\n",
       "          Strength  \n",
       "count  1030.000000  \n",
       "mean     35.817961  \n",
       "std      16.705742  \n",
       "min       2.330000  \n",
       "25%      23.710000  \n",
       "50%      34.445000  \n",
       "75%      46.135000  \n",
       "max      82.600000  "
      ]
     },
     "execution_count": 5,
     "metadata": {},
     "output_type": "execute_result"
    }
   ],
   "source": [
    "concrete_data.describe()"
   ]
  },
  {
   "cell_type": "markdown",
   "id": "c77e0d86-92b3-4108-8ec2-7012ba34898b",
   "metadata": {},
   "source": [
    "#### Split data into predictors and target"
   ]
  },
  {
   "cell_type": "markdown",
   "id": "e516076b-4f85-4c2b-8e4e-3875cf7cf71b",
   "metadata": {},
   "source": [
    "The target variable in this problem is the concrete sample strength. Therefore, our predictors will be all the other columns."
   ]
  },
  {
   "cell_type": "code",
   "execution_count": 6,
   "id": "58b5c211-c656-4cd2-b7d4-d5c19f445331",
   "metadata": {},
   "outputs": [],
   "source": [
    "predictors = concrete_data.drop('Strength',axis=1)\n",
    "target = concrete_data['Strength'] # Strength column"
   ]
  },
  {
   "cell_type": "markdown",
   "id": "b86126bd-d3c8-4889-8e1f-6d1c6f319811",
   "metadata": {},
   "source": [
    "#### Check the predictors and the target dataframes.\n"
   ]
  },
  {
   "cell_type": "code",
   "execution_count": 7,
   "id": "e01d58ab-43c3-4638-ac9a-48d228ad552e",
   "metadata": {},
   "outputs": [
    {
     "data": {
      "text/html": [
       "<div>\n",
       "<style scoped>\n",
       "    .dataframe tbody tr th:only-of-type {\n",
       "        vertical-align: middle;\n",
       "    }\n",
       "\n",
       "    .dataframe tbody tr th {\n",
       "        vertical-align: top;\n",
       "    }\n",
       "\n",
       "    .dataframe thead th {\n",
       "        text-align: right;\n",
       "    }\n",
       "</style>\n",
       "<table border=\"1\" class=\"dataframe\">\n",
       "  <thead>\n",
       "    <tr style=\"text-align: right;\">\n",
       "      <th></th>\n",
       "      <th>Cement</th>\n",
       "      <th>Blast Furnace Slag</th>\n",
       "      <th>Fly Ash</th>\n",
       "      <th>Water</th>\n",
       "      <th>Superplasticizer</th>\n",
       "      <th>Coarse Aggregate</th>\n",
       "      <th>Fine Aggregate</th>\n",
       "      <th>Age</th>\n",
       "    </tr>\n",
       "  </thead>\n",
       "  <tbody>\n",
       "    <tr>\n",
       "      <th>0</th>\n",
       "      <td>540.0</td>\n",
       "      <td>0.0</td>\n",
       "      <td>0.0</td>\n",
       "      <td>162.0</td>\n",
       "      <td>2.5</td>\n",
       "      <td>1040.0</td>\n",
       "      <td>676.0</td>\n",
       "      <td>28</td>\n",
       "    </tr>\n",
       "    <tr>\n",
       "      <th>1</th>\n",
       "      <td>540.0</td>\n",
       "      <td>0.0</td>\n",
       "      <td>0.0</td>\n",
       "      <td>162.0</td>\n",
       "      <td>2.5</td>\n",
       "      <td>1055.0</td>\n",
       "      <td>676.0</td>\n",
       "      <td>28</td>\n",
       "    </tr>\n",
       "    <tr>\n",
       "      <th>2</th>\n",
       "      <td>332.5</td>\n",
       "      <td>142.5</td>\n",
       "      <td>0.0</td>\n",
       "      <td>228.0</td>\n",
       "      <td>0.0</td>\n",
       "      <td>932.0</td>\n",
       "      <td>594.0</td>\n",
       "      <td>270</td>\n",
       "    </tr>\n",
       "    <tr>\n",
       "      <th>3</th>\n",
       "      <td>332.5</td>\n",
       "      <td>142.5</td>\n",
       "      <td>0.0</td>\n",
       "      <td>228.0</td>\n",
       "      <td>0.0</td>\n",
       "      <td>932.0</td>\n",
       "      <td>594.0</td>\n",
       "      <td>365</td>\n",
       "    </tr>\n",
       "    <tr>\n",
       "      <th>4</th>\n",
       "      <td>198.6</td>\n",
       "      <td>132.4</td>\n",
       "      <td>0.0</td>\n",
       "      <td>192.0</td>\n",
       "      <td>0.0</td>\n",
       "      <td>978.4</td>\n",
       "      <td>825.5</td>\n",
       "      <td>360</td>\n",
       "    </tr>\n",
       "  </tbody>\n",
       "</table>\n",
       "</div>"
      ],
      "text/plain": [
       "   Cement  Blast Furnace Slag  Fly Ash  Water  Superplasticizer  \\\n",
       "0   540.0                 0.0      0.0  162.0               2.5   \n",
       "1   540.0                 0.0      0.0  162.0               2.5   \n",
       "2   332.5               142.5      0.0  228.0               0.0   \n",
       "3   332.5               142.5      0.0  228.0               0.0   \n",
       "4   198.6               132.4      0.0  192.0               0.0   \n",
       "\n",
       "   Coarse Aggregate  Fine Aggregate  Age  \n",
       "0            1040.0           676.0   28  \n",
       "1            1055.0           676.0   28  \n",
       "2             932.0           594.0  270  \n",
       "3             932.0           594.0  365  \n",
       "4             978.4           825.5  360  "
      ]
     },
     "execution_count": 7,
     "metadata": {},
     "output_type": "execute_result"
    }
   ],
   "source": [
    "predictors.head()"
   ]
  },
  {
   "cell_type": "code",
   "execution_count": 8,
   "id": "48d7f248-2fa8-4531-b755-300892cea126",
   "metadata": {},
   "outputs": [
    {
     "data": {
      "text/plain": [
       "0    79.99\n",
       "1    61.89\n",
       "2    40.27\n",
       "3    41.05\n",
       "4    44.30\n",
       "Name: Strength, dtype: float64"
      ]
     },
     "execution_count": 8,
     "metadata": {},
     "output_type": "execute_result"
    }
   ],
   "source": [
    "target.head()"
   ]
  },
  {
   "cell_type": "markdown",
   "id": "65360410-0bac-488d-946b-3d913406cba8",
   "metadata": {},
   "source": [
    "### Normalize the data by substracting the mean and dividing by the standard deviation."
   ]
  },
  {
   "cell_type": "markdown",
   "id": "b39726b5-1066-420b-a4e7-c92b958f25a3",
   "metadata": {},
   "source": [
    "##### Recall that one way to normalize the data is by subtracting the mean from the individual predictors and dividing by the standard deviation."
   ]
  },
  {
   "cell_type": "code",
   "execution_count": 9,
   "id": "5c6335a0-3ad2-4b05-a786-e39f988ad700",
   "metadata": {},
   "outputs": [
    {
     "data": {
      "text/html": [
       "<div>\n",
       "<style scoped>\n",
       "    .dataframe tbody tr th:only-of-type {\n",
       "        vertical-align: middle;\n",
       "    }\n",
       "\n",
       "    .dataframe tbody tr th {\n",
       "        vertical-align: top;\n",
       "    }\n",
       "\n",
       "    .dataframe thead th {\n",
       "        text-align: right;\n",
       "    }\n",
       "</style>\n",
       "<table border=\"1\" class=\"dataframe\">\n",
       "  <thead>\n",
       "    <tr style=\"text-align: right;\">\n",
       "      <th></th>\n",
       "      <th>Cement</th>\n",
       "      <th>Blast Furnace Slag</th>\n",
       "      <th>Fly Ash</th>\n",
       "      <th>Water</th>\n",
       "      <th>Superplasticizer</th>\n",
       "      <th>Coarse Aggregate</th>\n",
       "      <th>Fine Aggregate</th>\n",
       "      <th>Age</th>\n",
       "    </tr>\n",
       "  </thead>\n",
       "  <tbody>\n",
       "    <tr>\n",
       "      <th>0</th>\n",
       "      <td>2.476712</td>\n",
       "      <td>-0.856472</td>\n",
       "      <td>-0.846733</td>\n",
       "      <td>-0.916319</td>\n",
       "      <td>-0.620147</td>\n",
       "      <td>0.862735</td>\n",
       "      <td>-1.217079</td>\n",
       "      <td>-0.279597</td>\n",
       "    </tr>\n",
       "    <tr>\n",
       "      <th>1</th>\n",
       "      <td>2.476712</td>\n",
       "      <td>-0.856472</td>\n",
       "      <td>-0.846733</td>\n",
       "      <td>-0.916319</td>\n",
       "      <td>-0.620147</td>\n",
       "      <td>1.055651</td>\n",
       "      <td>-1.217079</td>\n",
       "      <td>-0.279597</td>\n",
       "    </tr>\n",
       "    <tr>\n",
       "      <th>2</th>\n",
       "      <td>0.491187</td>\n",
       "      <td>0.795140</td>\n",
       "      <td>-0.846733</td>\n",
       "      <td>2.174405</td>\n",
       "      <td>-1.038638</td>\n",
       "      <td>-0.526262</td>\n",
       "      <td>-2.239829</td>\n",
       "      <td>3.551340</td>\n",
       "    </tr>\n",
       "    <tr>\n",
       "      <th>3</th>\n",
       "      <td>0.491187</td>\n",
       "      <td>0.795140</td>\n",
       "      <td>-0.846733</td>\n",
       "      <td>2.174405</td>\n",
       "      <td>-1.038638</td>\n",
       "      <td>-0.526262</td>\n",
       "      <td>-2.239829</td>\n",
       "      <td>5.055221</td>\n",
       "    </tr>\n",
       "    <tr>\n",
       "      <th>4</th>\n",
       "      <td>-0.790075</td>\n",
       "      <td>0.678079</td>\n",
       "      <td>-0.846733</td>\n",
       "      <td>0.488555</td>\n",
       "      <td>-1.038638</td>\n",
       "      <td>0.070492</td>\n",
       "      <td>0.647569</td>\n",
       "      <td>4.976069</td>\n",
       "    </tr>\n",
       "  </tbody>\n",
       "</table>\n",
       "</div>"
      ],
      "text/plain": [
       "     Cement  Blast Furnace Slag   Fly Ash     Water  Superplasticizer  \\\n",
       "0  2.476712           -0.856472 -0.846733 -0.916319         -0.620147   \n",
       "1  2.476712           -0.856472 -0.846733 -0.916319         -0.620147   \n",
       "2  0.491187            0.795140 -0.846733  2.174405         -1.038638   \n",
       "3  0.491187            0.795140 -0.846733  2.174405         -1.038638   \n",
       "4 -0.790075            0.678079 -0.846733  0.488555         -1.038638   \n",
       "\n",
       "   Coarse Aggregate  Fine Aggregate       Age  \n",
       "0          0.862735       -1.217079 -0.279597  \n",
       "1          1.055651       -1.217079 -0.279597  \n",
       "2         -0.526262       -2.239829  3.551340  \n",
       "3         -0.526262       -2.239829  5.055221  \n",
       "4          0.070492        0.647569  4.976069  "
      ]
     },
     "execution_count": 9,
     "metadata": {},
     "output_type": "execute_result"
    }
   ],
   "source": [
    "predictors_norm = (predictors - predictors.mean()) / predictors.std()\n",
    "predictors_norm.head()"
   ]
  },
  {
   "cell_type": "markdown",
   "id": "37b3eea5-edfd-45a0-8430-8ec351e56f6a",
   "metadata": {},
   "source": [
    "##### Save the number of predictors to *n_cols* since we will need this number when building our network."
   ]
  },
  {
   "cell_type": "code",
   "execution_count": 10,
   "id": "e38873c8-ae3b-481f-b570-aabd22eb2673",
   "metadata": {},
   "outputs": [],
   "source": [
    "n_cols = predictors_norm.shape[1] # number of predictors 1 dimension array"
   ]
  },
  {
   "cell_type": "code",
   "execution_count": 11,
   "id": "a61d20e5-9752-45b8-b7ec-685764b0e6a7",
   "metadata": {},
   "outputs": [
    {
     "data": {
      "text/plain": [
       "8"
      ]
     },
     "execution_count": 11,
     "metadata": {},
     "output_type": "execute_result"
    }
   ],
   "source": [
    "n_cols"
   ]
  },
  {
   "cell_type": "markdown",
   "id": "56bf3267-04cc-47dc-9816-e6a2ef87b4a7",
   "metadata": {},
   "source": [
    "#### Let's import the Keras library"
   ]
  },
  {
   "cell_type": "code",
   "execution_count": 12,
   "id": "1e7bf4e8-56c9-4b6a-9705-ae5c380223f5",
   "metadata": {},
   "outputs": [
    {
     "name": "stderr",
     "output_type": "stream",
     "text": [
      "Using TensorFlow backend.\n",
      "/home/jupyterlab/conda/envs/python/lib/python3.7/site-packages/tensorflow/python/framework/dtypes.py:516: FutureWarning: Passing (type, 1) or '1type' as a synonym of type is deprecated; in a future version of numpy, it will be understood as (type, (1,)) / '(1,)type'.\n",
      "  _np_qint8 = np.dtype([(\"qint8\", np.int8, 1)])\n",
      "/home/jupyterlab/conda/envs/python/lib/python3.7/site-packages/tensorflow/python/framework/dtypes.py:517: FutureWarning: Passing (type, 1) or '1type' as a synonym of type is deprecated; in a future version of numpy, it will be understood as (type, (1,)) / '(1,)type'.\n",
      "  _np_quint8 = np.dtype([(\"quint8\", np.uint8, 1)])\n",
      "/home/jupyterlab/conda/envs/python/lib/python3.7/site-packages/tensorflow/python/framework/dtypes.py:518: FutureWarning: Passing (type, 1) or '1type' as a synonym of type is deprecated; in a future version of numpy, it will be understood as (type, (1,)) / '(1,)type'.\n",
      "  _np_qint16 = np.dtype([(\"qint16\", np.int16, 1)])\n",
      "/home/jupyterlab/conda/envs/python/lib/python3.7/site-packages/tensorflow/python/framework/dtypes.py:519: FutureWarning: Passing (type, 1) or '1type' as a synonym of type is deprecated; in a future version of numpy, it will be understood as (type, (1,)) / '(1,)type'.\n",
      "  _np_quint16 = np.dtype([(\"quint16\", np.uint16, 1)])\n",
      "/home/jupyterlab/conda/envs/python/lib/python3.7/site-packages/tensorflow/python/framework/dtypes.py:520: FutureWarning: Passing (type, 1) or '1type' as a synonym of type is deprecated; in a future version of numpy, it will be understood as (type, (1,)) / '(1,)type'.\n",
      "  _np_qint32 = np.dtype([(\"qint32\", np.int32, 1)])\n",
      "/home/jupyterlab/conda/envs/python/lib/python3.7/site-packages/tensorflow/python/framework/dtypes.py:525: FutureWarning: Passing (type, 1) or '1type' as a synonym of type is deprecated; in a future version of numpy, it will be understood as (type, (1,)) / '(1,)type'.\n",
      "  np_resource = np.dtype([(\"resource\", np.ubyte, 1)])\n",
      "/home/jupyterlab/conda/envs/python/lib/python3.7/site-packages/tensorboard/compat/tensorflow_stub/dtypes.py:541: FutureWarning: Passing (type, 1) or '1type' as a synonym of type is deprecated; in a future version of numpy, it will be understood as (type, (1,)) / '(1,)type'.\n",
      "  _np_qint8 = np.dtype([(\"qint8\", np.int8, 1)])\n",
      "/home/jupyterlab/conda/envs/python/lib/python3.7/site-packages/tensorboard/compat/tensorflow_stub/dtypes.py:542: FutureWarning: Passing (type, 1) or '1type' as a synonym of type is deprecated; in a future version of numpy, it will be understood as (type, (1,)) / '(1,)type'.\n",
      "  _np_quint8 = np.dtype([(\"quint8\", np.uint8, 1)])\n",
      "/home/jupyterlab/conda/envs/python/lib/python3.7/site-packages/tensorboard/compat/tensorflow_stub/dtypes.py:543: FutureWarning: Passing (type, 1) or '1type' as a synonym of type is deprecated; in a future version of numpy, it will be understood as (type, (1,)) / '(1,)type'.\n",
      "  _np_qint16 = np.dtype([(\"qint16\", np.int16, 1)])\n",
      "/home/jupyterlab/conda/envs/python/lib/python3.7/site-packages/tensorboard/compat/tensorflow_stub/dtypes.py:544: FutureWarning: Passing (type, 1) or '1type' as a synonym of type is deprecated; in a future version of numpy, it will be understood as (type, (1,)) / '(1,)type'.\n",
      "  _np_quint16 = np.dtype([(\"quint16\", np.uint16, 1)])\n",
      "/home/jupyterlab/conda/envs/python/lib/python3.7/site-packages/tensorboard/compat/tensorflow_stub/dtypes.py:545: FutureWarning: Passing (type, 1) or '1type' as a synonym of type is deprecated; in a future version of numpy, it will be understood as (type, (1,)) / '(1,)type'.\n",
      "  _np_qint32 = np.dtype([(\"qint32\", np.int32, 1)])\n",
      "/home/jupyterlab/conda/envs/python/lib/python3.7/site-packages/tensorboard/compat/tensorflow_stub/dtypes.py:550: FutureWarning: Passing (type, 1) or '1type' as a synonym of type is deprecated; in a future version of numpy, it will be understood as (type, (1,)) / '(1,)type'.\n",
      "  np_resource = np.dtype([(\"resource\", np.ubyte, 1)])\n"
     ]
    }
   ],
   "source": [
    "import keras"
   ]
  },
  {
   "cell_type": "markdown",
   "id": "7a5a5a35-de26-4e34-9b04-6de7c08f2a95",
   "metadata": {},
   "source": [
    "import the rest of the packages from the Keras library that we will need to build our regressoin model."
   ]
  },
  {
   "cell_type": "code",
   "execution_count": 13,
   "id": "710d4da0-2cdc-4228-992a-b52c64d61275",
   "metadata": {},
   "outputs": [],
   "source": [
    "from keras.models import Sequential\n",
    "from keras.layers import Dense"
   ]
  },
  {
   "cell_type": "markdown",
   "id": "0c8ef40e-0432-4884-9661-b0c0cafddc28",
   "metadata": {},
   "source": [
    "#### Build a Neural Network"
   ]
  },
  {
   "cell_type": "markdown",
   "id": "17919fe5-0b9a-4500-bd7f-41dc747f31b8",
   "metadata": {},
   "source": [
    "###### Let's define a function that defines our regression model for us so that we can conveniently call it to create our model."
   ]
  },
  {
   "cell_type": "code",
   "execution_count": 14,
   "id": "8569d6ee-4a8a-45c9-8dac-15051ebda458",
   "metadata": {},
   "outputs": [],
   "source": [
    "# define regression model\n",
    "def regression_model():\n",
    "    # create model\n",
    "    model = Sequential()\n",
    "    model.add(Dense(10, activation='relu', input_shape=(n_cols,)))\n",
    "    model.add(Dense(1))\n",
    "    \n",
    "    # compile model\n",
    "    model.compile(optimizer='adam', loss='mean_squared_error')\n",
    "   \n",
    "    return model"
   ]
  },
  {
   "cell_type": "markdown",
   "id": "5b90bb60-b6ea-4cb8-ba41-f51ede4bfc9a",
   "metadata": {},
   "source": [
    "###### The above function create a model that has One hidden layer of 10 nodes, and a ReLU activation function.Use the adam optimizer and the mean squared error  as the loss function."
   ]
  },
  {
   "cell_type": "markdown",
   "id": "750a0c52-0afc-4e4d-9978-9c3873f56108",
   "metadata": {},
   "source": [
    "##### Randomly split the data into a training and test sets by holding 30% of the data for testing.\n"
   ]
  },
  {
   "cell_type": "code",
   "execution_count": 15,
   "id": "6b93973c-cd4b-4792-813b-b9df6071df33",
   "metadata": {},
   "outputs": [
    {
     "name": "stderr",
     "output_type": "stream",
     "text": [
      "/home/jupyterlab/conda/envs/python/lib/python3.7/site-packages/sklearn/utils/validation.py:37: DeprecationWarning: distutils Version classes are deprecated. Use packaging.version instead.\n",
      "  LARGE_SPARSE_SUPPORTED = LooseVersion(scipy_version) >= '0.14.0'\n"
     ]
    }
   ],
   "source": [
    "from sklearn.model_selection import train_test_split\n",
    "X_train, X_test, y_train, y_test = train_test_split(predictors, target, test_size=0.3, random_state= 42)"
   ]
  },
  {
   "cell_type": "code",
   "execution_count": 16,
   "id": "b3cf231b-3f9c-4090-9190-5972ae9dadab",
   "metadata": {},
   "outputs": [
    {
     "name": "stdout",
     "output_type": "stream",
     "text": [
      "Train set: (721, 8) (721,)\n",
      "Test set: (309, 8) (309,)\n"
     ]
    }
   ],
   "source": [
    "print('Train set:',X_train.shape,y_train.shape)\n",
    "print('Test set:',X_test.shape,y_test.shape)"
   ]
  },
  {
   "cell_type": "markdown",
   "id": "72164154-0068-440c-a803-f86f52c56c27",
   "metadata": {},
   "source": [
    "\n",
    "#### Train and Test the Network"
   ]
  },
  {
   "cell_type": "markdown",
   "id": "a9ea8a1a-fecf-40f1-92ac-af6a03570e44",
   "metadata": {},
   "source": [
    "##### Call the function now to create our model."
   ]
  },
  {
   "cell_type": "markdown",
   "id": "611ab80c-da91-4f3a-b843-b691f53688f4",
   "metadata": {},
   "source": [
    "### Train the model on the training data using 100 epochs."
   ]
  },
  {
   "cell_type": "code",
   "execution_count": 17,
   "id": "056c2fd8-f6f4-4f30-969b-f050f36a16d5",
   "metadata": {},
   "outputs": [
    {
     "name": "stdout",
     "output_type": "stream",
     "text": [
      "WARNING:tensorflow:From /home/jupyterlab/conda/envs/python/lib/python3.7/site-packages/keras/backend/tensorflow_backend.py:68: The name tf.get_default_graph is deprecated. Please use tf.compat.v1.get_default_graph instead.\n",
      "\n",
      "WARNING:tensorflow:From /home/jupyterlab/conda/envs/python/lib/python3.7/site-packages/keras/backend/tensorflow_backend.py:508: The name tf.placeholder is deprecated. Please use tf.compat.v1.placeholder instead.\n",
      "\n",
      "WARNING:tensorflow:From /home/jupyterlab/conda/envs/python/lib/python3.7/site-packages/keras/backend/tensorflow_backend.py:3837: The name tf.random_uniform is deprecated. Please use tf.random.uniform instead.\n",
      "\n",
      "WARNING:tensorflow:From /home/jupyterlab/conda/envs/python/lib/python3.7/site-packages/keras/optimizers.py:757: The name tf.train.Optimizer is deprecated. Please use tf.compat.v1.train.Optimizer instead.\n",
      "\n"
     ]
    }
   ],
   "source": [
    "# build the model\n",
    "model = regression_model()"
   ]
  },
  {
   "cell_type": "code",
   "execution_count": 18,
   "id": "02e4b82b-381f-433a-9a16-e65397812602",
   "metadata": {},
   "outputs": [
    {
     "name": "stdout",
     "output_type": "stream",
     "text": [
      "WARNING:tensorflow:From /home/jupyterlab/conda/envs/python/lib/python3.7/site-packages/keras/backend/tensorflow_backend.py:977: The name tf.assign_add is deprecated. Please use tf.compat.v1.assign_add instead.\n",
      "\n",
      "WARNING:tensorflow:From /home/jupyterlab/conda/envs/python/lib/python3.7/site-packages/keras/backend/tensorflow_backend.py:964: The name tf.assign is deprecated. Please use tf.compat.v1.assign instead.\n",
      "\n",
      "Epoch 1/100\n"
     ]
    },
    {
     "name": "stderr",
     "output_type": "stream",
     "text": [
      "2022-07-24 10:29:57.823055: I tensorflow/core/platform/cpu_feature_guard.cc:142] Your CPU supports instructions that this TensorFlow binary was not compiled to use: SSE4.1 SSE4.2 AVX AVX2 AVX512F FMA\n",
      "2022-07-24 10:29:57.834960: I tensorflow/core/platform/profile_utils/cpu_utils.cc:94] CPU Frequency: 2593900000 Hz\n",
      "2022-07-24 10:29:57.835694: I tensorflow/compiler/xla/service/service.cc:168] XLA service 0x565401aad1b0 executing computations on platform Host. Devices:\n",
      "2022-07-24 10:29:57.835750: I tensorflow/compiler/xla/service/service.cc:175]   StreamExecutor device (0): <undefined>, <undefined>\n",
      "2022-07-24 10:29:57.910426: W tensorflow/compiler/jit/mark_for_compilation_pass.cc:1412] (One-time warning): Not using XLA:CPU for cluster because envvar TF_XLA_FLAGS=--tf_xla_cpu_global_jit was not set.  If you want XLA:CPU, either set that envvar, or use experimental_jit_scope to enable XLA:CPU.  To confirm that XLA is active, pass --vmodule=xla_compilation_cache=1 (as a proper command-line flag, not via TF_XLA_FLAGS) or set the envvar XLA_FLAGS=--xla_hlo_profile.\n"
     ]
    },
    {
     "name": "stdout",
     "output_type": "stream",
     "text": [
      "721/721 [==============================] - 0s 404us/step - loss: 188614.5539\n",
      "Epoch 2/100\n",
      "721/721 [==============================] - 0s 106us/step - loss: 101278.7073\n",
      "Epoch 3/100\n",
      "721/721 [==============================] - 0s 89us/step - loss: 49782.7246\n",
      "Epoch 4/100\n",
      "721/721 [==============================] - 0s 104us/step - loss: 21972.5449\n",
      "Epoch 5/100\n",
      "721/721 [==============================] - 0s 87us/step - loss: 7986.0091\n",
      "Epoch 6/100\n",
      "721/721 [==============================] - 0s 83us/step - loss: 2331.8136\n",
      "Epoch 7/100\n",
      "721/721 [==============================] - 0s 81us/step - loss: 783.8059\n",
      "Epoch 8/100\n",
      "721/721 [==============================] - 0s 82us/step - loss: 549.0799\n",
      "Epoch 9/100\n",
      "721/721 [==============================] - 0s 82us/step - loss: 512.4131\n",
      "Epoch 10/100\n",
      "721/721 [==============================] - 0s 79us/step - loss: 491.4097\n",
      "Epoch 11/100\n",
      "721/721 [==============================] - 0s 63us/step - loss: 470.7509\n",
      "Epoch 12/100\n",
      "721/721 [==============================] - 0s 78us/step - loss: 451.5988\n",
      "Epoch 13/100\n",
      "721/721 [==============================] - 0s 77us/step - loss: 433.8304\n",
      "Epoch 14/100\n",
      "721/721 [==============================] - 0s 63us/step - loss: 416.4768\n",
      "Epoch 15/100\n",
      "721/721 [==============================] - 0s 64us/step - loss: 401.1216\n",
      "Epoch 16/100\n",
      "721/721 [==============================] - 0s 78us/step - loss: 385.6599\n",
      "Epoch 17/100\n",
      "721/721 [==============================] - 0s 77us/step - loss: 373.1256\n",
      "Epoch 18/100\n",
      "721/721 [==============================] - 0s 61us/step - loss: 360.6532\n",
      "Epoch 19/100\n",
      "721/721 [==============================] - 0s 75us/step - loss: 349.0725\n",
      "Epoch 20/100\n",
      "721/721 [==============================] - 0s 62us/step - loss: 338.9728\n",
      "Epoch 21/100\n",
      "721/721 [==============================] - 0s 78us/step - loss: 329.4979\n",
      "Epoch 22/100\n",
      "721/721 [==============================] - 0s 82us/step - loss: 320.5806\n",
      "Epoch 23/100\n",
      "721/721 [==============================] - 0s 76us/step - loss: 313.1244\n",
      "Epoch 24/100\n",
      "721/721 [==============================] - 0s 64us/step - loss: 305.2880\n",
      "Epoch 25/100\n",
      "721/721 [==============================] - 0s 77us/step - loss: 298.8234\n",
      "Epoch 26/100\n",
      "721/721 [==============================] - 0s 81us/step - loss: 292.8616\n",
      "Epoch 27/100\n",
      "721/721 [==============================] - 0s 62us/step - loss: 286.9827\n",
      "Epoch 28/100\n",
      "721/721 [==============================] - 0s 76us/step - loss: 281.8222\n",
      "Epoch 29/100\n",
      "721/721 [==============================] - 0s 62us/step - loss: 276.6810\n",
      "Epoch 30/100\n",
      "721/721 [==============================] - 0s 75us/step - loss: 272.2993\n",
      "Epoch 31/100\n",
      "721/721 [==============================] - 0s 61us/step - loss: 267.7684\n",
      "Epoch 32/100\n",
      "721/721 [==============================] - 0s 68us/step - loss: 264.0429\n",
      "Epoch 33/100\n",
      "721/721 [==============================] - 0s 75us/step - loss: 260.2784\n",
      "Epoch 34/100\n",
      "721/721 [==============================] - 0s 83us/step - loss: 255.7568\n",
      "Epoch 35/100\n",
      "721/721 [==============================] - 0s 75us/step - loss: 252.4735\n",
      "Epoch 36/100\n",
      "721/721 [==============================] - 0s 68us/step - loss: 248.6405\n",
      "Epoch 37/100\n",
      "721/721 [==============================] - 0s 77us/step - loss: 246.2227\n",
      "Epoch 38/100\n",
      "721/721 [==============================] - 0s 79us/step - loss: 242.6237\n",
      "Epoch 39/100\n",
      "721/721 [==============================] - 0s 76us/step - loss: 239.5636\n",
      "Epoch 40/100\n",
      "721/721 [==============================] - 0s 61us/step - loss: 236.7252\n",
      "Epoch 41/100\n",
      "721/721 [==============================] - 0s 74us/step - loss: 233.6916\n",
      "Epoch 42/100\n",
      "721/721 [==============================] - 0s 65us/step - loss: 230.8836\n",
      "Epoch 43/100\n",
      "721/721 [==============================] - 0s 74us/step - loss: 228.1412\n",
      "Epoch 44/100\n",
      "721/721 [==============================] - 0s 63us/step - loss: 226.0595\n",
      "Epoch 45/100\n",
      "721/721 [==============================] - 0s 79us/step - loss: 223.1611\n",
      "Epoch 46/100\n",
      "721/721 [==============================] - 0s 76us/step - loss: 221.2326\n",
      "Epoch 47/100\n",
      "721/721 [==============================] - 0s 61us/step - loss: 218.2355\n",
      "Epoch 48/100\n",
      "721/721 [==============================] - 0s 78us/step - loss: 216.4308\n",
      "Epoch 49/100\n",
      "721/721 [==============================] - 0s 80us/step - loss: 213.3732\n",
      "Epoch 50/100\n",
      "721/721 [==============================] - 0s 62us/step - loss: 211.7175\n",
      "Epoch 51/100\n",
      "721/721 [==============================] - 0s 62us/step - loss: 209.3609\n",
      "Epoch 52/100\n",
      "721/721 [==============================] - 0s 78us/step - loss: 206.8840\n",
      "Epoch 53/100\n",
      "721/721 [==============================] - 0s 79us/step - loss: 205.1011\n",
      "Epoch 54/100\n",
      "721/721 [==============================] - 0s 62us/step - loss: 203.4179\n",
      "Epoch 55/100\n",
      "721/721 [==============================] - 0s 74us/step - loss: 201.2185\n",
      "Epoch 56/100\n",
      "721/721 [==============================] - 0s 63us/step - loss: 199.2159\n",
      "Epoch 57/100\n",
      "721/721 [==============================] - 0s 77us/step - loss: 197.2610\n",
      "Epoch 58/100\n",
      "721/721 [==============================] - 0s 107us/step - loss: 195.0243\n",
      "Epoch 59/100\n",
      "721/721 [==============================] - 0s 67us/step - loss: 193.4110\n",
      "Epoch 60/100\n",
      "721/721 [==============================] - 0s 64us/step - loss: 191.5544\n",
      "Epoch 61/100\n",
      "721/721 [==============================] - 0s 78us/step - loss: 189.8224\n",
      "Epoch 62/100\n",
      "721/721 [==============================] - 0s 81us/step - loss: 187.9097\n",
      "Epoch 63/100\n",
      "721/721 [==============================] - 0s 87us/step - loss: 186.1637\n",
      "Epoch 64/100\n",
      "721/721 [==============================] - 0s 78us/step - loss: 184.9194\n",
      "Epoch 65/100\n",
      "721/721 [==============================] - 0s 82us/step - loss: 182.9977\n",
      "Epoch 66/100\n",
      "721/721 [==============================] - 0s 83us/step - loss: 181.2506\n",
      "Epoch 67/100\n",
      "721/721 [==============================] - 0s 63us/step - loss: 179.8513\n",
      "Epoch 68/100\n",
      "721/721 [==============================] - 0s 90us/step - loss: 178.1723\n",
      "Epoch 69/100\n",
      "721/721 [==============================] - 0s 78us/step - loss: 177.1296\n",
      "Epoch 70/100\n",
      "721/721 [==============================] - 0s 79us/step - loss: 175.2813\n",
      "Epoch 71/100\n",
      "721/721 [==============================] - 0s 62us/step - loss: 174.1401\n",
      "Epoch 72/100\n",
      "721/721 [==============================] - 0s 74us/step - loss: 172.6874\n",
      "Epoch 73/100\n",
      "721/721 [==============================] - 0s 62us/step - loss: 171.6137\n",
      "Epoch 74/100\n",
      "721/721 [==============================] - 0s 86us/step - loss: 170.5865\n",
      "Epoch 75/100\n",
      "721/721 [==============================] - 0s 63us/step - loss: 168.8053\n",
      "Epoch 76/100\n",
      "721/721 [==============================] - 0s 79us/step - loss: 167.4437\n",
      "Epoch 77/100\n",
      "721/721 [==============================] - 0s 61us/step - loss: 165.9050\n",
      "Epoch 78/100\n",
      "721/721 [==============================] - 0s 76us/step - loss: 164.9226\n",
      "Epoch 79/100\n",
      "721/721 [==============================] - 0s 85us/step - loss: 163.5448\n",
      "Epoch 80/100\n",
      "721/721 [==============================] - 0s 78us/step - loss: 162.6701\n",
      "Epoch 81/100\n",
      "721/721 [==============================] - 0s 78us/step - loss: 161.2449\n",
      "Epoch 82/100\n",
      "721/721 [==============================] - 0s 60us/step - loss: 161.9276\n",
      "Epoch 83/100\n",
      "721/721 [==============================] - 0s 79us/step - loss: 159.7037\n",
      "Epoch 84/100\n",
      "721/721 [==============================] - 0s 64us/step - loss: 157.5090\n",
      "Epoch 85/100\n",
      "721/721 [==============================] - 0s 74us/step - loss: 156.4279\n",
      "Epoch 86/100\n",
      "721/721 [==============================] - 0s 81us/step - loss: 155.3621\n",
      "Epoch 87/100\n",
      "721/721 [==============================] - 0s 62us/step - loss: 154.4379\n",
      "Epoch 88/100\n",
      "721/721 [==============================] - 0s 77us/step - loss: 153.7199\n",
      "Epoch 89/100\n",
      "721/721 [==============================] - 0s 78us/step - loss: 152.1970\n",
      "Epoch 90/100\n",
      "721/721 [==============================] - 0s 62us/step - loss: 150.9682\n",
      "Epoch 91/100\n",
      "721/721 [==============================] - 0s 77us/step - loss: 149.8306\n",
      "Epoch 92/100\n",
      "721/721 [==============================] - 0s 64us/step - loss: 148.9786\n",
      "Epoch 93/100\n",
      "721/721 [==============================] - 0s 77us/step - loss: 147.7975\n",
      "Epoch 94/100\n",
      "721/721 [==============================] - 0s 82us/step - loss: 147.2553\n",
      "Epoch 95/100\n",
      "721/721 [==============================] - 0s 76us/step - loss: 145.9465\n",
      "Epoch 96/100\n",
      "721/721 [==============================] - 0s 75us/step - loss: 145.2086\n",
      "Epoch 97/100\n",
      "721/721 [==============================] - 0s 64us/step - loss: 144.5126\n",
      "Epoch 98/100\n",
      "721/721 [==============================] - 0s 76us/step - loss: 143.0236\n",
      "Epoch 99/100\n",
      "721/721 [==============================] - 0s 62us/step - loss: 142.5668\n",
      "Epoch 100/100\n",
      "721/721 [==============================] - 0s 77us/step - loss: 142.5994\n"
     ]
    },
    {
     "data": {
      "text/plain": [
       "<keras.callbacks.History at 0x7f0cc6183890>"
      ]
     },
     "execution_count": 18,
     "metadata": {},
     "output_type": "execute_result"
    }
   ],
   "source": [
    "# fit the model\n",
    "model.fit(X_train, y_train, epochs= 100 , verbose = 1)"
   ]
  },
  {
   "cell_type": "markdown",
   "id": "8b694c84-7034-4200-9726-00bb96f8cc83",
   "metadata": {},
   "source": [
    "##### Evaluate the model on the test data \n"
   ]
  },
  {
   "cell_type": "code",
   "execution_count": 19,
   "id": "6e3e1894-3da4-4260-9c87-6549aa117f25",
   "metadata": {},
   "outputs": [
    {
     "name": "stdout",
     "output_type": "stream",
     "text": [
      "Train: 141.57, Test:125.12\n"
     ]
    }
   ],
   "source": [
    "train_mse = model.evaluate(X_train, y_train,verbose=0)\n",
    "test_mse= model.evaluate(X_test, y_test,verbose=0)\n",
    "print('Train: %.2f, Test:%.2f' % (train_mse,test_mse))"
   ]
  },
  {
   "cell_type": "code",
   "execution_count": 20,
   "id": "f5340939-e730-4041-bb05-3d96374cca66",
   "metadata": {},
   "outputs": [],
   "source": [
    "y_pred = model.predict(X_test)"
   ]
  },
  {
   "cell_type": "markdown",
   "id": "ddea46df-08a6-42df-a00d-16461e8f76ae",
   "metadata": {},
   "source": [
    "##### Compute the mean squared error between the predicted concrete strength and the actual concrete strength. \n",
    "\n",
    "##### Use the mean_squared_error function from Scikit-learn."
   ]
  },
  {
   "cell_type": "code",
   "execution_count": 21,
   "id": "293f4abf-14a0-4a7b-a4c7-d879db8aa772",
   "metadata": {},
   "outputs": [],
   "source": [
    "from sklearn.metrics import mean_squared_error"
   ]
  },
  {
   "cell_type": "code",
   "execution_count": 22,
   "id": "790a776a-70d1-4ffa-8a08-2031fcb83802",
   "metadata": {},
   "outputs": [
    {
     "data": {
      "text/plain": [
       "125.12391543432658"
      ]
     },
     "execution_count": 22,
     "metadata": {},
     "output_type": "execute_result"
    }
   ],
   "source": [
    "MSE = mean_squared_error(y_test, y_pred)\n",
    "MSE"
   ]
  },
  {
   "cell_type": "markdown",
   "id": "0879cd5f-8476-4d2f-99fb-4b1e3c6802c7",
   "metadata": {},
   "source": [
    "##### Repeat steps 1 - 3, 50 times, i.e., create a list of 50 mean squared errors.\n",
    "\n"
   ]
  },
  {
   "cell_type": "code",
   "execution_count": 23,
   "id": "e633fb80-9261-4c61-89bb-6d14832d64ad",
   "metadata": {},
   "outputs": [
    {
     "name": "stdout",
     "output_type": "stream",
     "text": [
      "MSE1: 117.71121430628509\n",
      "MSE2: 65.10048369373705\n",
      "MSE3: 63.80508822839237\n",
      "MSE4: 45.73170814390707\n",
      "MSE5: 43.50081840687971\n",
      "MSE6: 48.38233704551524\n",
      "MSE7: 39.08862807141153\n",
      "MSE8: 43.053701567418365\n",
      "MSE9: 32.515307651754334\n",
      "MSE10: 45.77544430235829\n",
      "MSE11: 49.016047567225584\n",
      "MSE12: 35.319945955739435\n",
      "MSE13: 38.76606298650353\n",
      "MSE14: 46.723580715339935\n",
      "MSE15: 41.39321180917684\n",
      "MSE16: 38.55233680700407\n",
      "MSE17: 46.977319266803825\n",
      "MSE18: 48.365705953061\n",
      "MSE19: 41.61164147336892\n",
      "MSE20: 36.7702180189608\n",
      "MSE21: 50.050809335554305\n",
      "MSE22: 47.06519981804018\n",
      "MSE23: 45.499860251219914\n",
      "MSE24: 47.815324678390155\n",
      "MSE25: 40.421412384625775\n",
      "MSE26: 44.824544764645275\n",
      "MSE27: 42.12373776729053\n",
      "MSE28: 45.24861777098819\n",
      "MSE29: 43.43266434654063\n",
      "MSE30: 44.70211021645555\n",
      "MSE31: 46.15356205813707\n",
      "MSE32: 39.52604377771273\n",
      "MSE33: 45.730695780041145\n",
      "MSE34: 39.794422816304326\n",
      "MSE35: 43.038740756828034\n",
      "MSE36: 52.64670846686008\n",
      "MSE37: 48.94202674939795\n",
      "MSE38: 42.016471899828865\n",
      "MSE39: 40.27917981687873\n",
      "MSE40: 40.258806173083855\n",
      "MSE41: 39.92195657773311\n",
      "MSE42: 36.129812345535626\n",
      "MSE43: 37.49088778079135\n",
      "MSE44: 48.58848144630012\n",
      "MSE45: 37.85759556100592\n",
      "MSE46: 42.777985668491006\n",
      "MSE47: 43.45478405998748\n",
      "MSE48: 34.77015537274308\n",
      "MSE49: 41.097432726023655\n",
      "MSE50: 38.10342446731518\n"
     ]
    }
   ],
   "source": [
    "list_mse = []\n",
    "for i in range(0,50):\n",
    "    # Randomly split the data \n",
    "    X_train, X_test, y_train, y_test = train_test_split(predictors, target, test_size=0.3)\n",
    "    #Train Model, Evaluation and Predict  \n",
    "    model.fit(X_train, y_train, epochs=100, verbose=0)\n",
    "    MSE = model.evaluate(X_test, y_test, verbose=0)\n",
    "    y_pred = model.predict(X_test)\n",
    "    print('MSE' +str(i+1) +':',(MSE))\n",
    "    # creat list of mean squared error\n",
    "    mean_square_error = mean_squared_error(y_test, y_pred)\n",
    "    list_mse.append(mean_square_error)\n"
   ]
  },
  {
   "cell_type": "markdown",
   "id": "916c65aa-7b17-4053-8a57-10883720aa26",
   "metadata": {},
   "source": [
    "##### Report the mean and the standard deviation of the mean squared errors."
   ]
  },
  {
   "cell_type": "code",
   "execution_count": 24,
   "id": "f37c7e6a-8393-4c69-a182-654802d13102",
   "metadata": {},
   "outputs": [],
   "source": [
    "list_mse = np.array(list_mse)"
   ]
  },
  {
   "cell_type": "code",
   "execution_count": 25,
   "id": "d46abb83-17df-4b29-9c2d-c26eafa86bd6",
   "metadata": {},
   "outputs": [
    {
     "name": "stdout",
     "output_type": "stream",
     "text": [
      "The mean of the mean squared errors: 45.15848501753694\n",
      "The standard deviation of the mean squared errors: 12.011021892798539\n"
     ]
    }
   ],
   "source": [
    "print('The mean of the mean squared errors:',np.mean(list_mse))\n",
    "print('The standard deviation of the mean squared errors:',np.std(list_mse))"
   ]
  },
  {
   "cell_type": "markdown",
   "id": "43a2cc25-aee5-4671-8ddb-09d176cd7aa4",
   "metadata": {},
   "source": [
    "# How does the mean of the mean squared errors compare to that from Step B?"
   ]
  },
  {
   "cell_type": "code",
   "execution_count": 26,
   "id": "31e52d1c-eee9-4bab-a968-d2c6f3af9e2f",
   "metadata": {},
   "outputs": [
    {
     "data": {
      "text/html": [
       "<div>\n",
       "<style scoped>\n",
       "    .dataframe tbody tr th:only-of-type {\n",
       "        vertical-align: middle;\n",
       "    }\n",
       "\n",
       "    .dataframe tbody tr th {\n",
       "        vertical-align: top;\n",
       "    }\n",
       "\n",
       "    .dataframe thead th {\n",
       "        text-align: right;\n",
       "    }\n",
       "</style>\n",
       "<table border=\"1\" class=\"dataframe\">\n",
       "  <thead>\n",
       "    <tr style=\"text-align: right;\">\n",
       "      <th></th>\n",
       "      <th>PART</th>\n",
       "      <th>Mean of MSE</th>\n",
       "      <th>SD of MSE</th>\n",
       "    </tr>\n",
       "  </thead>\n",
       "  <tbody>\n",
       "    <tr>\n",
       "      <th>0</th>\n",
       "      <td>B</td>\n",
       "      <td>52.22</td>\n",
       "      <td>14.87</td>\n",
       "    </tr>\n",
       "    <tr>\n",
       "      <th>1</th>\n",
       "      <td>C</td>\n",
       "      <td>45.16</td>\n",
       "      <td>12.01</td>\n",
       "    </tr>\n",
       "  </tbody>\n",
       "</table>\n",
       "</div>"
      ],
      "text/plain": [
       "  PART Mean of MSE SD of MSE\n",
       "0    B       52.22     14.87\n",
       "1    C       45.16     12.01"
      ]
     },
     "execution_count": 26,
     "metadata": {},
     "output_type": "execute_result"
    }
   ],
   "source": [
    "report = [['B','52.22','14.87'],\\\n",
    "          ['C',\"%.2f\"%np.mean(list_mse),\"%.2f\"%np.std(list_mse)]]\n",
    "df_r=pd.DataFrame(report, columns=['PART','Mean of MSE','SD of MSE'])\n",
    "df_r"
   ]
  },
  {
   "cell_type": "markdown",
   "id": "673acc44-08a8-43f5-a3f8-53a4252e66ca",
   "metadata": {},
   "source": [
    "The mean of the mean squared errors and The standard deviation of the mean squared errors of \n",
    "#### C is less than than B #### \n",
    "when we used 100 epochs."
   ]
  },
  {
   "cell_type": "code",
   "execution_count": null,
   "id": "505de04e-f763-4138-b358-75b76de2f52e",
   "metadata": {},
   "outputs": [],
   "source": []
  }
 ],
 "metadata": {
  "kernelspec": {
   "display_name": "Python",
   "language": "python",
   "name": "conda-env-python-py"
  },
  "language_info": {
   "codemirror_mode": {
    "name": "ipython",
    "version": 3
   },
   "file_extension": ".py",
   "mimetype": "text/x-python",
   "name": "python",
   "nbconvert_exporter": "python",
   "pygments_lexer": "ipython3",
   "version": "3.7.12"
  }
 },
 "nbformat": 4,
 "nbformat_minor": 5
}
